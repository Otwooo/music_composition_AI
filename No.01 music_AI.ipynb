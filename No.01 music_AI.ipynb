{
  "cells": [
    {
      "cell_type": "markdown",
      "metadata": {
        "colab_type": "text",
        "id": "view-in-github"
      },
      "source": [
        "<a href=\"https://colab.research.google.com/github/Otwooo/music_composition_AI/blob/main/No.01%20music_AI.ipynb\" target=\"_parent\"><img src=\"https://colab.research.google.com/assets/colab-badge.svg\" alt=\"Open In Colab\"/></a>"
      ]
    },
    {
      "cell_type": "markdown",
      "metadata": {
        "id": "sZmDTPZ1lroT"
      },
      "source": [
        "# **작곡 AI 만들기**\n",
        "악보가 주어졌을 때 다음 음으로는 무엇이 오는지 예측해보자. 한음한음 차례대로 예측하다보면 노래가 완성된다."
      ]
    },
    {
      "cell_type": "markdown",
      "metadata": {
        "id": "AoKPyDeJpKgR"
      },
      "source": [
        "### **1. 라이브러리 불러오기 & 데이터 불러오기**"
      ]
    },
    {
      "cell_type": "code",
      "execution_count": 6,
      "metadata": {
        "id": "lbKumJyhnp3I"
      },
      "outputs": [],
      "source": [
        "import numpy as np\n",
        "import tensorflow as tf"
      ]
    },
    {
      "cell_type": "code",
      "execution_count": 9,
      "metadata": {
        "colab": {
          "base_uri": "https://localhost:8080/"
        },
        "id": "RvBxq6FjgkQe",
        "outputId": "100f815d-2afc-4d7a-fa36-a66ffeaaf7bb"
      },
      "outputs": [
        {
          "name": "stdout",
          "output_type": "stream",
          "text": [
            "e\"G\"d2B\"D\"A3/2B/2c\"G\"B2G\"D\"A2e\"G\"d2B\"D\"A3/2B/2c:2/4\"F\"BF:3/4\"G\"G2e:\"C\"g2e\"Bb\"f2d\"F\"c2AF2e\"C\"g2e\"Bb\"f\n"
          ]
        }
      ],
      "source": [
        "text = open('/content/drive/MyDrive/강의/Coding Apple - 문과여도 상관없다 Tensorflow 딥러닝 AI 기초부터 실무까지/pianoabc.txt', 'r').read()\n",
        "print(text[:100])"
      ]
    },
    {
      "cell_type": "markdown",
      "metadata": {
        "id": "GlS6jlh9i8EL"
      },
      "source": [
        "### **2. 데이터 전처리**"
      ]
    },
    {
      "cell_type": "markdown",
      "metadata": {
        "id": "zGekCn_ypwnc"
      },
      "source": [
        "#### **2.1 문자 데이터를 숫자로 바꿔주기**\n",
        "bag of word(단어 주머니)를 만들어 문자 데이터를 숫자 데이터로 바꿔준다."
      ]
    },
    {
      "cell_type": "code",
      "execution_count": 10,
      "metadata": {
        "colab": {
          "base_uri": "https://localhost:8080/"
        },
        "id": "ZdmXqygtg8VX",
        "outputId": "cf08e3ed-a9fd-41a3-8cb2-a0cfe0b48232"
      },
      "outputs": [
        {
          "name": "stdout",
          "output_type": "stream",
          "text": [
            "['\"', \"'\", ',', '/', '1', '2', '3', '4', '5', '6', '7', '8', '9', ':', 'A', 'B', 'C', 'D', 'E', 'F', 'G', '^', '_', 'a', 'b', 'c', 'd', 'e', 'f', 'g', 'z']\n"
          ]
        }
      ],
      "source": [
        "unique_text = list(set(text))\n",
        "unique_text.sort()\n",
        "print(unique_text)"
      ]
    },
    {
      "cell_type": "markdown",
      "metadata": {
        "id": "1CqrykXakRju"
      },
      "source": [
        "(문자 -> 숫자) (숫자 -> 문자) 둘다 만들어 두면 유용하다."
      ]
    },
    {
      "cell_type": "code",
      "execution_count": 11,
      "metadata": {
        "colab": {
          "base_uri": "https://localhost:8080/"
        },
        "id": "-MhMN-pajGki",
        "outputId": "2847fc93-cc45-44f0-8a0e-62b1683bb4e3"
      },
      "outputs": [
        {
          "name": "stdout",
          "output_type": "stream",
          "text": [
            "{'\"': 0, \"'\": 1, ',': 2, '/': 3, '1': 4, '2': 5, '3': 6, '4': 7, '5': 8, '6': 9, '7': 10, '8': 11, '9': 12, ':': 13, 'A': 14, 'B': 15, 'C': 16, 'D': 17, 'E': 18, 'F': 19, 'G': 20, '^': 21, '_': 22, 'a': 23, 'b': 24, 'c': 25, 'd': 26, 'e': 27, 'f': 28, 'g': 29, 'z': 30}\n",
            "{0: '\"', 1: \"'\", 2: ',', 3: '/', 4: '1', 5: '2', 6: '3', 7: '4', 8: '5', 9: '6', 10: '7', 11: '8', 12: '9', 13: ':', 14: 'A', 15: 'B', 16: 'C', 17: 'D', 18: 'E', 19: 'F', 20: 'G', 21: '^', 22: '_', 23: 'a', 24: 'b', 25: 'c', 26: 'd', 27: 'e', 28: 'f', 29: 'g', 30: 'z'}\n"
          ]
        }
      ],
      "source": [
        "text_to_num = {}\n",
        "num_to_text = {}\n",
        "\n",
        "for i, data in enumerate(unique_text):\n",
        "  text_to_num[data] = i\n",
        "  num_to_text[i] = data\n",
        "\n",
        "print(text_to_num)\n",
        "print(num_to_text)"
      ]
    },
    {
      "cell_type": "markdown",
      "metadata": {
        "id": "_q4YgXS48rso"
      },
      "source": [
        "각 문자에 맞는 숫자와 각 숫자에 맞는 문자로 구성된 딕셔너리 생성"
      ]
    },
    {
      "cell_type": "code",
      "execution_count": 12,
      "metadata": {
        "colab": {
          "base_uri": "https://localhost:8080/"
        },
        "id": "C4OVXHuqj-1J",
        "outputId": "dd2ff6de-69a3-4059-f38d-f66a5ea1778d"
      },
      "outputs": [
        {
          "name": "stdout",
          "output_type": "stream",
          "text": [
            "[27, 0, 20, 0, 26, 5, 15, 0, 17, 0, 14, 6, 3, 5, 15, 3, 5, 25, 0, 20, 0, 15, 5, 20, 0, 17, 0, 14, 5, 27, 0, 20, 0, 26, 5, 15, 0, 17, 0, 14, 6, 3, 5, 15, 3, 5, 25, 13, 5, 3]\n"
          ]
        }
      ],
      "source": [
        "num_text = []\n",
        "\n",
        "for i in text:\n",
        "  num_text.append(text_to_num[i])\n",
        "\n",
        "print(num_text[:50])"
      ]
    },
    {
      "cell_type": "markdown",
      "metadata": {
        "id": "kEivqezl87V5"
      },
      "source": [
        "악보 데이터인 'text'를 앞에서 생성한 딕셔너리를 이용하여 숫자 데이터 'num_text' 변형"
      ]
    },
    {
      "cell_type": "markdown",
      "metadata": {
        "id": "nK_6wyTWp5c6"
      },
      "source": [
        "#### **2.2 train_X, train_Y 데이터 만들기**"
      ]
    },
    {
      "cell_type": "markdown",
      "metadata": {
        "id": "d23VGHocldWt"
      },
      "source": [
        "train_X 데이터는 순서대로 아무거나 10개를 고른 후 train_Y 데이터는 그 다음 문자로 설정한다.\n",
        "\n",
        "10개 정도면 다음에 나올 음을 충분히 예측할 수 있다고 판단"
      ]
    },
    {
      "cell_type": "code",
      "execution_count": 13,
      "metadata": {
        "colab": {
          "base_uri": "https://localhost:8080/"
        },
        "id": "sblzgbGUmt31",
        "outputId": "12ff4cef-7314-4fb8-87e5-4503a4087489"
      },
      "outputs": [
        {
          "name": "stdout",
          "output_type": "stream",
          "text": [
            "[[27, 0, 20, 0, 26, 5, 15, 0, 17, 0], [0, 20, 0, 26, 5, 15, 0, 17, 0, 14], [20, 0, 26, 5, 15, 0, 17, 0, 14, 6]]\n",
            "[14, 6, 3]\n"
          ]
        }
      ],
      "source": [
        "train_x = []\n",
        "train_y = []\n",
        "\n",
        "for i in range(0, len(num_text) - 10):\n",
        "  train_x.append(num_text[i:i+10]) \n",
        "  train_y.append(num_text[i+10])\n",
        "\n",
        "print(train_x[0:3])\n",
        "print(train_y[0:3])"
      ]
    },
    {
      "cell_type": "code",
      "execution_count": 14,
      "metadata": {
        "colab": {
          "base_uri": "https://localhost:8080/"
        },
        "id": "tgbR0LIQnvph",
        "outputId": "b5be4a98-5031-44f4-b74d-6caa427453d9"
      },
      "outputs": [
        {
          "name": "stdout",
          "output_type": "stream",
          "text": [
            "(292012, 10)\n",
            "(292012,)\n"
          ]
        }
      ],
      "source": [
        "print(np.array(train_x).shape)\n",
        "print(np.array(train_y).shape)"
      ]
    },
    {
      "cell_type": "markdown",
      "metadata": {
        "id": "Xuk62XJx-BsZ"
      },
      "source": [
        "총 292012개의 train data가 만들어졌다."
      ]
    },
    {
      "cell_type": "markdown",
      "metadata": {
        "id": "qUDg1elQoBBZ"
      },
      "source": [
        "#### **2.3 원핫 인코딩**\n",
        "모델에 이 정수들을 그대로 넣을 수도 있지만 원핫 인코딩을 한 후 넣을 수도 있다.\n",
        "\n",
        "unique_text가 많으면 원핫 인코딩 더 부담이 될 수 있다."
      ]
    },
    {
      "cell_type": "code",
      "execution_count": 15,
      "metadata": {
        "colab": {
          "base_uri": "https://localhost:8080/"
        },
        "id": "mNQ5inF7oe7J",
        "outputId": "aeee4dfa-1de9-4721-906d-5f1e35949511"
      },
      "outputs": [
        {
          "name": "stdout",
          "output_type": "stream",
          "text": [
            "tf.Tensor(\n",
            "[[0. 0. 0. 0. 0. 0. 0. 0. 0. 0. 0. 0. 0. 0. 0. 0. 0. 0. 0. 0. 0. 0. 0. 0.\n",
            "  0. 0. 0. 1. 0. 0. 0.]\n",
            " [1. 0. 0. 0. 0. 0. 0. 0. 0. 0. 0. 0. 0. 0. 0. 0. 0. 0. 0. 0. 0. 0. 0. 0.\n",
            "  0. 0. 0. 0. 0. 0. 0.]\n",
            " [0. 0. 0. 0. 0. 0. 0. 0. 0. 0. 0. 0. 0. 0. 0. 0. 0. 0. 0. 0. 1. 0. 0. 0.\n",
            "  0. 0. 0. 0. 0. 0. 0.]\n",
            " [1. 0. 0. 0. 0. 0. 0. 0. 0. 0. 0. 0. 0. 0. 0. 0. 0. 0. 0. 0. 0. 0. 0. 0.\n",
            "  0. 0. 0. 0. 0. 0. 0.]\n",
            " [0. 0. 0. 0. 0. 0. 0. 0. 0. 0. 0. 0. 0. 0. 0. 0. 0. 0. 0. 0. 0. 0. 0. 0.\n",
            "  0. 0. 1. 0. 0. 0. 0.]\n",
            " [0. 0. 0. 0. 0. 1. 0. 0. 0. 0. 0. 0. 0. 0. 0. 0. 0. 0. 0. 0. 0. 0. 0. 0.\n",
            "  0. 0. 0. 0. 0. 0. 0.]\n",
            " [0. 0. 0. 0. 0. 0. 0. 0. 0. 0. 0. 0. 0. 0. 0. 1. 0. 0. 0. 0. 0. 0. 0. 0.\n",
            "  0. 0. 0. 0. 0. 0. 0.]\n",
            " [1. 0. 0. 0. 0. 0. 0. 0. 0. 0. 0. 0. 0. 0. 0. 0. 0. 0. 0. 0. 0. 0. 0. 0.\n",
            "  0. 0. 0. 0. 0. 0. 0.]\n",
            " [0. 0. 0. 0. 0. 0. 0. 0. 0. 0. 0. 0. 0. 0. 0. 0. 0. 1. 0. 0. 0. 0. 0. 0.\n",
            "  0. 0. 0. 0. 0. 0. 0.]\n",
            " [1. 0. 0. 0. 0. 0. 0. 0. 0. 0. 0. 0. 0. 0. 0. 0. 0. 0. 0. 0. 0. 0. 0. 0.\n",
            "  0. 0. 0. 0. 0. 0. 0.]], shape=(10, 31), dtype=float32)\n",
            "tf.Tensor(\n",
            "[0. 0. 0. 0. 0. 0. 0. 0. 0. 0. 0. 0. 0. 0. 1. 0. 0. 0. 0. 0. 0. 0. 0. 0.\n",
            " 0. 0. 0. 0. 0. 0. 0.], shape=(31,), dtype=float32)\n",
            "(292012, 10, 31)\n"
          ]
        }
      ],
      "source": [
        "train_X = tf.one_hot(train_x, 31)\n",
        "train_Y = tf.one_hot(train_y, 31)\n",
        "\n",
        "print(train_X[0])\n",
        "print(train_Y[0])\n",
        "print(train_X.shape)"
      ]
    },
    {
      "cell_type": "markdown",
      "metadata": {
        "id": "IeUteaJLo69W"
      },
      "source": [
        "원 핫인코딩이 된 것을 확인할 수 있다.\n",
        "\n",
        "tensorflow에서 제공하는 `tf.one_hot([unique 문자 수])` 함수를 이용하면 쉽게 원 핫 인코딩 형태로 데이터를 변형할 수 있다."
      ]
    },
    {
      "cell_type": "markdown",
      "metadata": {
        "id": "Tpy2uSqwpRSs"
      },
      "source": [
        "### **3. 모델 제작하기**"
      ]
    },
    {
      "cell_type": "code",
      "execution_count": null,
      "metadata": {
        "id": "1TWobDSypDwW"
      },
      "outputs": [],
      "source": [
        "model = tf.keras.models.Sequential([\n",
        "  tf.keras.layers.LSTM(100, input_shape=(10, 31)),\n",
        "  tf.keras.layers.Dense(31, activation='softmax')\n",
        "])\n",
        "\n",
        "model.compile(loss='categorical_crossentropy', optimizer='adam', metrics=['accuracy'])"
      ]
    },
    {
      "cell_type": "markdown",
      "metadata": {
        "id": "vLpwsNxuqcwr"
      },
      "source": [
        "`tf.keras.laers.LSTM([노드 수], input_shape=([하나의 데이터 shape]))` lstm 레이어에는 활성화함수가 필요없다.\n",
        "\n",
        "`tf.keras.layers.Dense(31, activation='softmax')` 마지막 출력에서는 unique text 31개 중 하나를 출력해야 하기 때문에 노트가 31개인 것을 확인할 수 있다.\n",
        "\n",
        "데이터가 원핫인코딩이 안되어 있다면 loss 함수로 `sparse_categorical_crossentropy`를 넣어줘야한다."
      ]
    },
    {
      "cell_type": "markdown",
      "metadata": {
        "id": "epwSC_eXroA4"
      },
      "source": [
        "### **4. 모델 학습시키기**"
      ]
    },
    {
      "cell_type": "code",
      "execution_count": null,
      "metadata": {
        "colab": {
          "base_uri": "https://localhost:8080/"
        },
        "id": "_2j7TZdFrE59",
        "outputId": "05da5eca-0bd2-4b79-b7a6-ce53f3e54474"
      },
      "outputs": [
        {
          "name": "stdout",
          "output_type": "stream",
          "text": [
            "Epoch 1/30\n",
            "4563/4563 - 33s - loss: 0.9212 - accuracy: 0.6980 - 33s/epoch - 7ms/step\n",
            "Epoch 2/30\n",
            "4563/4563 - 33s - loss: 0.9175 - accuracy: 0.6999 - 33s/epoch - 7ms/step\n",
            "Epoch 3/30\n",
            "4563/4563 - 33s - loss: 0.9131 - accuracy: 0.7011 - 33s/epoch - 7ms/step\n",
            "Epoch 4/30\n",
            "4563/4563 - 33s - loss: 0.9095 - accuracy: 0.7019 - 33s/epoch - 7ms/step\n",
            "Epoch 5/30\n",
            "4563/4563 - 33s - loss: 0.9057 - accuracy: 0.7032 - 33s/epoch - 7ms/step\n",
            "Epoch 6/30\n",
            "4563/4563 - 33s - loss: 0.9022 - accuracy: 0.7039 - 33s/epoch - 7ms/step\n",
            "Epoch 7/30\n",
            "4563/4563 - 33s - loss: 0.8986 - accuracy: 0.7061 - 33s/epoch - 7ms/step\n",
            "Epoch 8/30\n",
            "4563/4563 - 34s - loss: 0.8958 - accuracy: 0.7063 - 34s/epoch - 7ms/step\n",
            "Epoch 9/30\n",
            "4563/4563 - 34s - loss: 0.8924 - accuracy: 0.7083 - 34s/epoch - 8ms/step\n",
            "Epoch 10/30\n",
            "4563/4563 - 35s - loss: 0.8888 - accuracy: 0.7087 - 35s/epoch - 8ms/step\n",
            "Epoch 11/30\n",
            "4563/4563 - 33s - loss: 0.8864 - accuracy: 0.7098 - 33s/epoch - 7ms/step\n",
            "Epoch 12/30\n",
            "4563/4563 - 33s - loss: 0.8834 - accuracy: 0.7110 - 33s/epoch - 7ms/step\n",
            "Epoch 13/30\n",
            "4563/4563 - 33s - loss: 0.8809 - accuracy: 0.7113 - 33s/epoch - 7ms/step\n",
            "Epoch 14/30\n",
            "4563/4563 - 33s - loss: 0.8779 - accuracy: 0.7123 - 33s/epoch - 7ms/step\n",
            "Epoch 15/30\n",
            "4563/4563 - 33s - loss: 0.8759 - accuracy: 0.7135 - 33s/epoch - 7ms/step\n",
            "Epoch 16/30\n",
            "4563/4563 - 33s - loss: 0.8739 - accuracy: 0.7135 - 33s/epoch - 7ms/step\n",
            "Epoch 17/30\n",
            "4563/4563 - 33s - loss: 0.8709 - accuracy: 0.7148 - 33s/epoch - 7ms/step\n",
            "Epoch 18/30\n",
            "4563/4563 - 34s - loss: 0.8689 - accuracy: 0.7152 - 34s/epoch - 7ms/step\n",
            "Epoch 19/30\n",
            "4563/4563 - 33s - loss: 0.8666 - accuracy: 0.7166 - 33s/epoch - 7ms/step\n",
            "Epoch 20/30\n",
            "4563/4563 - 33s - loss: 0.8646 - accuracy: 0.7169 - 33s/epoch - 7ms/step\n",
            "Epoch 21/30\n",
            "4563/4563 - 32s - loss: 0.8626 - accuracy: 0.7174 - 32s/epoch - 7ms/step\n",
            "Epoch 22/30\n",
            "4563/4563 - 33s - loss: 0.8609 - accuracy: 0.7181 - 33s/epoch - 7ms/step\n",
            "Epoch 23/30\n",
            "4563/4563 - 33s - loss: 0.8584 - accuracy: 0.7192 - 33s/epoch - 7ms/step\n",
            "Epoch 24/30\n",
            "4563/4563 - 33s - loss: 0.8572 - accuracy: 0.7198 - 33s/epoch - 7ms/step\n",
            "Epoch 25/30\n",
            "4563/4563 - 33s - loss: 0.8561 - accuracy: 0.7200 - 33s/epoch - 7ms/step\n",
            "Epoch 26/30\n",
            "4563/4563 - 33s - loss: 0.8534 - accuracy: 0.7209 - 33s/epoch - 7ms/step\n",
            "Epoch 27/30\n",
            "4563/4563 - 33s - loss: 0.8520 - accuracy: 0.7212 - 33s/epoch - 7ms/step\n",
            "Epoch 28/30\n",
            "4563/4563 - 33s - loss: 0.8502 - accuracy: 0.7211 - 33s/epoch - 7ms/step\n",
            "Epoch 29/30\n",
            "4563/4563 - 33s - loss: 0.8486 - accuracy: 0.7220 - 33s/epoch - 7ms/step\n",
            "Epoch 30/30\n",
            "4563/4563 - 33s - loss: 0.8474 - accuracy: 0.7220 - 33s/epoch - 7ms/step\n"
          ]
        },
        {
          "name": "stderr",
          "output_type": "stream",
          "text": [
            "WARNING:absl:Found untraced functions such as lstm_cell_1_layer_call_fn, lstm_cell_1_layer_call_and_return_conditional_losses while saving (showing 2 of 2). These functions will not be directly callable after loading.\n"
          ]
        },
        {
          "name": "stdout",
          "output_type": "stream",
          "text": [
            "INFO:tensorflow:Assets written to: /content/drive/MyDrive/강의/Coding Apple - 문과여도 상관없다 Tensorflow 딥러닝 AI 기초부터 실무까지/model1/assets\n"
          ]
        },
        {
          "name": "stderr",
          "output_type": "stream",
          "text": [
            "INFO:tensorflow:Assets written to: /content/drive/MyDrive/강의/Coding Apple - 문과여도 상관없다 Tensorflow 딥러닝 AI 기초부터 실무까지/model1/assets\n",
            "WARNING:absl:<keras.layers.recurrent.LSTMCell object at 0x7f74a9ba06d0> has the same name 'LSTMCell' as a built-in Keras object. Consider renaming <class 'keras.layers.recurrent.LSTMCell'> to avoid naming conflicts when loading with `tf.keras.models.load_model`. If renaming is not possible, pass the object in the `custom_objects` parameter of the load function.\n"
          ]
        }
      ],
      "source": [
        "model.fit(train_X, train_Y, batch_size=64, epochs=30, verbose=2)\n",
        "model.save('/content/drive/MyDrive/강의/Coding Apple - 문과여도 상관없다 Tensorflow 딥러닝 AI 기초부터 실무까지/model1')"
      ]
    },
    {
      "cell_type": "markdown",
      "metadata": {
        "id": "DthHGn0pr5XJ"
      },
      "source": [
        "`batch_size=[]`는 몇번의 학습 후 w값이 업데이트가 일어나게 하고 싶은지 설정해주는 파라미터다. 모든 데이터를 다 넣어준 후 마지막에 w 값을 업데이트하고 싶다면 안 넣어주면 된다.\n",
        "\n",
        "LSTM은 학습하는데 시간이 좀 걸린다.\n",
        "\n",
        "verbose=2는 출력을 좀 덜 해달라는 파라미터다. epoch 길게 학습할 경우 필수"
      ]
    },
    {
      "cell_type": "markdown",
      "metadata": {
        "id": "twQrC9GO8FH1"
      },
      "source": [
        "### **5. 예측하기**"
      ]
    },
    {
      "cell_type": "code",
      "execution_count": 7,
      "metadata": {
        "id": "9FIY_DIy8EUn"
      },
      "outputs": [],
      "source": [
        "model = tf.keras.models.load_model(\"/content/drive/MyDrive/강의/Coding Apple - 문과여도 상관없다 Tensorflow 딥러닝 AI 기초부터 실무까지/model1\")"
      ]
    },
    {
      "cell_type": "markdown",
      "metadata": {
        "id": "g5oyU3jj8TrP"
      },
      "source": [
        "예측은 깔끔하게 볼 수 있도록 다른 파이썬 파일에서 하기도 함. 이번엔 그냥 같은 파일에서 진행하겠다."
      ]
    },
    {
      "cell_type": "code",
      "execution_count": 16,
      "metadata": {
        "colab": {
          "base_uri": "https://localhost:8080/"
        },
        "id": "ObUVCS9c8dGx",
        "outputId": "4bfab587-b91c-47fb-e133-d30a43df0df3"
      },
      "outputs": [
        {
          "name": "stdout",
          "output_type": "stream",
          "text": [
            "tf.Tensor(\n",
            "[[[0. 0. 0. 0. 0. 1. 0. 0. 0. 0. 0. 0. 0. 0. 0. 0. 0. 0. 0. 0. 0. 0. 0.\n",
            "   0. 0. 0. 0. 0. 0. 0. 0.]\n",
            "  [0. 0. 0. 0. 0. 0. 0. 0. 0. 0. 0. 0. 0. 0. 0. 0. 0. 0. 0. 0. 0. 0. 0.\n",
            "   0. 0. 0. 1. 0. 0. 0. 0.]\n",
            "  [0. 0. 0. 0. 0. 0. 0. 0. 0. 0. 0. 0. 0. 1. 0. 0. 0. 0. 0. 0. 0. 0. 0.\n",
            "   0. 0. 0. 0. 0. 0. 0. 0.]\n",
            "  [0. 0. 0. 0. 0. 1. 0. 0. 0. 0. 0. 0. 0. 0. 0. 0. 0. 0. 0. 0. 0. 0. 0.\n",
            "   0. 0. 0. 0. 0. 0. 0. 0.]\n",
            "  [0. 0. 0. 1. 0. 0. 0. 0. 0. 0. 0. 0. 0. 0. 0. 0. 0. 0. 0. 0. 0. 0. 0.\n",
            "   0. 0. 0. 0. 0. 0. 0. 0.]\n",
            "  [0. 0. 0. 0. 0. 0. 0. 1. 0. 0. 0. 0. 0. 0. 0. 0. 0. 0. 0. 0. 0. 0. 0.\n",
            "   0. 0. 0. 0. 0. 0. 0. 0.]\n",
            "  [1. 0. 0. 0. 0. 0. 0. 0. 0. 0. 0. 0. 0. 0. 0. 0. 0. 0. 0. 0. 0. 0. 0.\n",
            "   0. 0. 0. 0. 0. 0. 0. 0.]\n",
            "  [0. 0. 0. 0. 0. 0. 0. 0. 0. 0. 0. 0. 0. 0. 0. 0. 0. 0. 0. 1. 0. 0. 0.\n",
            "   0. 0. 0. 0. 0. 0. 0. 0.]\n",
            "  [1. 0. 0. 0. 0. 0. 0. 0. 0. 0. 0. 0. 0. 0. 0. 0. 0. 0. 0. 0. 0. 0. 0.\n",
            "   0. 0. 0. 0. 0. 0. 0. 0.]\n",
            "  [0. 0. 0. 0. 0. 0. 0. 0. 0. 0. 0. 0. 0. 0. 0. 0. 0. 0. 0. 0. 0. 0. 0.\n",
            "   0. 0. 1. 0. 0. 0. 0. 0.]]], shape=(1, 10, 31), dtype=float32)\n"
          ]
        }
      ],
      "source": [
        "input = num_text[100:100+10]\n",
        "input = tf.one_hot(input, 31)\n",
        "input = tf.expand_dims(input, axis=0) # 2차원 데이터를 3차원 데이터로 만들어주기\n",
        "print(input)"
      ]
    },
    {
      "cell_type": "markdown",
      "metadata": {
        "id": "PYpHiNwe9Fbg"
      },
      "source": [
        "원핫인코딩을 넣어줘서 학습을 진행했기 때문에 값을 예측할 때도 그대로 원핫 인코딩 된 데이터를 넣어줘야한다.\n",
        "\n",
        "처음 학습 데이터가 3차원이기 때문에 예측할 때 값도 3차원으로 넣어줘야한다."
      ]
    },
    {
      "cell_type": "code",
      "execution_count": 17,
      "metadata": {
        "colab": {
          "base_uri": "https://localhost:8080/"
        },
        "id": "oFCL9DVH9L2U",
        "outputId": "562335b7-e660-442e-ab87-c5b972ec259b"
      },
      "outputs": [
        {
          "name": "stdout",
          "output_type": "stream",
          "text": [
            "[1.6269380e-03 1.5416192e-06 3.7319587e-06 5.4875791e-01 1.0360702e-05\n",
            " 1.3036336e-03 8.5865475e-02 6.9423164e-05 2.7407054e-10 6.7290884e-09\n",
            " 6.1497039e-06 2.1777322e-07 6.4393894e-12 3.2471956e-04 2.9852629e-01\n",
            " 2.4004215e-03 5.5104724e-06 1.6854152e-03 7.6448334e-05 6.6514928e-03\n",
            " 8.1476057e-05 8.8172185e-04 6.4546418e-07 3.3429898e-02 8.6504304e-05\n",
            " 3.2148554e-03 4.9754800e-03 1.3213252e-03 8.2831876e-03 4.9149163e-05\n",
            " 3.6007180e-04]\n",
            "3\n"
          ]
        }
      ],
      "source": [
        "predict = model.predict(input) \n",
        "print(predict[0])\n",
        "\n",
        "print(np.argmax(predict[0])) # 확률로 나타나 있는 예측값을 최대 확률인 숫자를 출력하는 것"
      ]
    },
    {
      "cell_type": "markdown",
      "metadata": {
        "id": "nqdEKnYdZvI_"
      },
      "source": [
        "31개의 확률을 출력한다.\n",
        "\n",
        "`argmax()`를 이용하여 가장 최대값을 가지는 인덱스를 출력할 수 있다."
      ]
    },
    {
      "cell_type": "markdown",
      "metadata": {
        "id": "ZFmp3V6A-uTU"
      },
      "source": [
        "예측한 값이 실제 학습한 데이터와 일치한 것을 볼 수 있다."
      ]
    },
    {
      "cell_type": "markdown",
      "metadata": {
        "id": "FPIzcjsi_XQN"
      },
      "source": [
        "### **6. 노래 작곡해보기**"
      ]
    },
    {
      "cell_type": "code",
      "execution_count": 18,
      "metadata": {
        "colab": {
          "base_uri": "https://localhost:8080/"
        },
        "id": "3z0QBtWU-k3g",
        "outputId": "95322873-ca77-4269-a776-64278f07ece6"
      },
      "outputs": [
        {
          "name": "stdout",
          "output_type": "stream",
          "text": [
            "[3, 5, 23, 3, 7, 23, 3, 7, 0, 18, 0, 29, 3, 7, 28, 3, 7, 27, 3, 7, 28, 3, 7, 0, 17, 0, 26, 3, 5, 28, 3, 5, 0, 14, 0, 27, 3, 5, 25, 3, 5, 14, 3, 5, 20, 3, 5, 20, 3, 5, 14, 3, 5, 0, 20, 0, 15, 20, 20, 13, 28, 3, 5, 27, 3, 5, 0, 17, 0, 26, 3, 5, 25, 3, 5, 26, 3, 5, 27, 3, 5, 28, 3, 5, 29, 3, 5, 0, 14, 0, 23, 3, 5, 27, 3, 5, 25, 3, 5, 27, 3, 5, 25, 3, 5, 0, 17, 0, 26, 3, 5, 27, 3, 5, 28, 3, 5, 29, 3, 5, 0, 14, 0, 23, 3, 5, 27, 3, 5, 25, 3, 5, 27, 3, 5, 25, 3, 5, 0, 17, 0, 26, 3, 5, 27, 3, 5, 28, 3, 5, 29, 3, 5, 0, 14, 0, 23, 3, 5, 27, 3, 5, 25, 3, 5, 27, 3, 5, 25, 3, 5, 0, 17, 0, 26, 3, 5, 27, 3, 5, 28, 3, 5, 29, 3, 5, 0, 14, 0, 23, 3, 5, 27, 3, 5, 25, 3, 5, 27, 3, 5, 25, 3, 5, 0, 17, 0, 26, 3, 5, 27, 3, 5, 28, 3, 5, 29, 3, 5, 0, 14, 0, 23, 3, 5, 27, 3, 5, 25, 3, 5, 27, 3, 5, 25, 3, 5, 0, 17, 0, 26, 3, 5, 27, 3, 5, 28, 3, 5, 29, 3, 5, 0, 14, 0, 23, 3, 5, 27, 3, 5, 25, 3, 5, 27, 3, 5, 25, 3, 5, 0, 17, 0, 26, 3, 5, 27, 3, 5, 28, 3, 5, 29, 3, 5, 0, 14, 0, 23, 3, 5, 27, 3, 5, 25, 3, 5, 27, 3, 5, 25, 3, 5, 0, 17, 0, 26, 3, 5, 27, 3, 5, 28, 3, 5, 29, 3, 5, 0, 14, 0, 23, 3, 5, 27, 3, 5, 25, 3, 5, 27, 3, 5, 25, 3, 5, 0, 17, 0, 26, 3, 5, 27, 3, 5, 28, 3, 5, 29, 3, 5, 0, 14, 0, 23, 3, 5, 27, 3, 5, 25, 3, 5, 27, 3, 5, 25, 3, 5, 0, 17, 0, 26, 3, 5, 27, 3, 5, 28, 3, 5, 29, 3, 5, 0, 14, 0, 23, 3, 5, 27, 3, 5, 25, 3, 5, 27, 3, 5, 25, 3, 5, 0, 17, 0, 26, 3, 5, 27, 3, 5, 28, 3, 5, 29, 3, 5, 0, 14, 0, 23, 3, 5, 27, 3, 5, 25, 3, 5, 27, 3, 5, 25, 3, 5, 0, 17, 0, 26, 3, 5, 27, 3, 5, 28, 3, 5, 29, 3, 5, 0, 14, 0, 23, 3, 5, 27, 3, 5, 25, 3, 5, 27, 3, 5, 25, 3, 5, 0, 17, 0, 26, 3, 5, 27, 3, 5, 28, 3, 5, 29, 3, 5, 0, 14, 0, 23, 3, 5, 27, 3, 5, 25, 3, 5, 27, 3, 5, 25, 3]\n"
          ]
        }
      ],
      "source": [
        "music = []\n",
        "\n",
        "for i in range(500):\n",
        "  predict2 = model.predict(input)\n",
        "  predict2 = np.argmax(predict2[0]) # 예측하기 np.random.choice\n",
        "\n",
        "  music.append(predict2) # 예측한 값 music 리스트에 추가\n",
        "\n",
        "  input2 = input.numpy()[0][1:] # 입력값에서 첫번째 값 삭제\n",
        "\n",
        "  \n",
        "  one_hot_num = tf.one_hot(predict2, 31) # 예측값 원핫인코딩\n",
        "  input = np.vstack([input2, one_hot_num.numpy()]) # 첫번째 값을 삭제한 기존의 입력값 뒤에 새로 예측한 값 추가\n",
        "  input = tf.expand_dims(input, axis=0) # 3차원으로 변형\n",
        "\n",
        "print(music)"
      ]
    },
    {
      "cell_type": "code",
      "execution_count": 19,
      "metadata": {
        "colab": {
          "base_uri": "https://localhost:8080/"
        },
        "id": "brACrNFsBCSN",
        "outputId": "a38860ee-80f3-40bc-c1ec-321d6b6bc3a8"
      },
      "outputs": [
        {
          "name": "stdout",
          "output_type": "stream",
          "text": [
            "/2a/4a/4\"E\"g/4f/4e/4f/4\"D\"d/2f/2\"A\"e/2c/2A/2G/2G/2A/2\"G\"BGG:f/2e/2\"D\"d/2c/2d/2e/2f/2g/2\"A\"a/2e/2c/2e/2c/2\"D\"d/2e/2f/2g/2\"A\"a/2e/2c/2e/2c/2\"D\"d/2e/2f/2g/2\"A\"a/2e/2c/2e/2c/2\"D\"d/2e/2f/2g/2\"A\"a/2e/2c/2e/2c/2\"D\"d/2e/2f/2g/2\"A\"a/2e/2c/2e/2c/2\"D\"d/2e/2f/2g/2\"A\"a/2e/2c/2e/2c/2\"D\"d/2e/2f/2g/2\"A\"a/2e/2c/2e/2c/2\"D\"d/2e/2f/2g/2\"A\"a/2e/2c/2e/2c/2\"D\"d/2e/2f/2g/2\"A\"a/2e/2c/2e/2c/2\"D\"d/2e/2f/2g/2\"A\"a/2e/2c/2e/2c/2\"D\"d/2e/2f/2g/2\"A\"a/2e/2c/2e/2c/2\"D\"d/2e/2f/2g/2\"A\"a/2e/2c/2e/2c/2\"D\"d/2e/2f/2g/2\"A\"a/2e/2c/2e/2c/\n"
          ]
        }
      ],
      "source": [
        "music_text = []\n",
        "\n",
        "for i in music:\n",
        "  music_text.append(num_to_text[i])\n",
        "\n",
        "print(''.join(music_text))"
      ]
    },
    {
      "cell_type": "markdown",
      "metadata": {
        "id": "EX0YY-9Xlicd"
      },
      "source": [
        "**해결해야할 점**\n",
        "\n",
        "- 계속 같은 구간을 반복한다.\n",
        "- 예측한 값 abc notation이 오류가 일어나는 경우가 있다. "
      ]
    }
  ],
  "metadata": {
    "colab": {
      "authorship_tag": "ABX9TyPTWyZveAs9XKCQxXQcJ/UA",
      "collapsed_sections": [],
      "include_colab_link": true,
      "mount_file_id": "1i3dwSOCVwlqxfc2FLyc6zk4utQXgUhvE",
      "name": "작곡 AI 만들기.ipynb",
      "provenance": [],
      "toc_visible": true
    },
    "kernelspec": {
      "display_name": "Python 3",
      "name": "python3"
    },
    "language_info": {
      "name": "python"
    }
  },
  "nbformat": 4,
  "nbformat_minor": 0
}
